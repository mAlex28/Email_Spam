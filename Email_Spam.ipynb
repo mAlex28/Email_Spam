{
 "cells": [
  {
   "cell_type": "code",
   "execution_count": null,
   "metadata": {},
   "outputs": [],
   "source": [
    "# download the book data from the website\n",
    "import requests\n",
    "# calculate word per message\n",
    "from math import floor\n",
    "# delay the mail loop\n",
    "import time\n",
    "# connect to the email server\n",
    "import smtplib as smtp\n",
    "# create the email\n",
    "from email.message import EmailMessage "
   ]
  },
  {
   "cell_type": "markdown",
   "metadata": {},
   "source": [
    "## Import the book data for war and peace"
   ]
  },
  {
   "cell_type": "markdown",
   "metadata": {},
   "source": [
    "<b>Send a request</b> to download the book from the Gutenberg Library"
   ]
  },
  { 
   "cell_type": "code",
   "execution_count": null,
   "metadata": {},
   "outputs": [],
   "source": [
    "book_url = \"https://www.gutenberg.org/files/2600/2600-0.txt\"\n",
    "r = requests.get(book_url)"
   ]
  },
  {
   "cell_type": "markdown",
   "metadata": {},
   "source": [
    "Remove <b>ascii</b> characters"
   ]
  },
  {
   "cell_type": "code",
   "execution_count": null,
   "metadata": {},
   "outputs": [],
   "source": [
    "book_data = r.text.encode('ascii', 'ignore').decode('ascii')"
   ]
  },
  {
   "cell_type": "markdown",
   "metadata": {},
   "source": [
    "<b>Split the words</b> of each book into a list of words"
   ]
  },
  {
   "cell_type": "code",
   "execution_count": null,
   "metadata": {},
   "outputs": [],
   "source": [
    "word_list = book_data.split(\" \")"
   ]
  },
  {
   "cell_type": "markdown",
   "metadata": {},
   "source": [
    "<b>Determine the message data</b>"
   ]
  },
  {
   "cell_type": "code",
   "execution_count": null,
   "metadata": {},
   "outputs": [],
   "source": [
    "msg_size = floor(len(word_list) / 1000)\n",
    "final_msg_size = len(word_list) - (msg_size * 999)\n",
    "\n",
    "print(f\"Words per message: {msg_size}\\nFinal message size: {final_msg_size}\")"
   ]
  },
  {
   "cell_type": "markdown",
   "metadata": {},
   "source": [
    "## Setup server authentication variables"
   ]
  },
  {
   "cell_type": "markdown",
   "metadata": {},
   "source": [
    "Create the email server connection\n",
    "\n",
    "SMTP servers used:\n",
    "    <ul>\n",
    "        <li>smtp.gmail.com (port 587 or 465)</li>\n",
    "        <li>smtp.office365.com (port 587)</li>\n",
    "        <li>smtp.mail.yahoo.com (port 587 or 465)</li>\n",
    "    </ul>"
   ]
  },
  {
   "cell_type": "code",
   "execution_count": null,
   "metadata": {},
   "outputs": [],
   "source": [
    "user = \"alexthegeek2001@gmail.com\"\n",
    "password = \"notfor123normies#\"\n",
    "from_address = \"alexthegeek2001@gmail.com\"\n",
    "to_address = \"rashmimunasinghe2000@gmail.com\"\n",
    "smtp_host = 'smtp.gmail.com'\n",
    "smtp_port = 587"
   ]
  },
  {
   "cell_type": "markdown",
   "metadata": {},
   "source": [
    "## Setup email variables"
   ]
  },
  {
   "cell_type": "code",
   "execution_count": null,
   "metadata": {},
   "outputs": [],
   "source": [
    "subject = 'War & Peace - Part '\n",
    "msg_text = ''\n",
    "start_pos = 0\n",
    "msg_count = 0"
   ]
  },
  {
   "cell_type": "markdown",
   "metadata": {},
   "source": [
    "## Create and send email"
   ]
  },
  {
   "cell_type": "markdown",
   "metadata": {},
   "source": [
    "<b>Open a connection</b> to the mail server.<br>\n",
    "<b>Create and send</b> the email messge"
   ]
  },
  {
   "cell_type": "code",
   "execution_count": null,
   "metadata": {},
   "outputs": [],
   "source": [
    "# seperate into chunks of 10 emails in order to avoid sending limits (2000 mails per day)\n",
    "for b in range(20):\n",
    "    # open the email server connection\n",
    "    server = smtp.SMTP(host=smtp_host, port=smtp_port)\n",
    "    server.starttls()\n",
    "    server.login(user=user, password=password)\n",
    "    \n",
    "    # create and send the message\n",
    "    for i in range(50):\n",
    "        # check to see if this is the final message, which has a slightly different range\n",
    "        if msg_count == 1000:\n",
    "            start_pos = (len(word_list)-final_msg_size)\n",
    "            msg_text = ' '.join(word_list[start_pos:])\n",
    "        else:\n",
    "            start_pos = msg_count * msg_size\n",
    "            msg_text = ' '.join(word_list[start_pos:start_pos + msg_size])\n",
    "        \n",
    "        # create the email message header and set the payload\n",
    "        msg = EmailMessage()\n",
    "        msg['From'] = from_address\n",
    "        msg['To'] = to_address\n",
    "        msg['Subject'] = subject + str(msg_count+1)\n",
    "        msg.set_payload(msg_text)\n",
    "        \n",
    "        msg_count += 1\n",
    "        \n",
    "        # open the email server and send the message\n",
    "        server.send_message(msg)\n",
    "        \n",
    "        '''delay each email by 0.5 seconds to space out the distribution'''\n",
    "        \n",
    "        time.sleep(0.5)\n",
    "        \n",
    "    # delay each batch by 60 seconds to avoid sending limits\n",
    "    time.sleep(60)\n",
    "    \n",
    "    # close the server\n",
    "    server.close()"
   ]
  },
  {
   "cell_type": "markdown",
   "metadata": {},
   "source": [
    "<i>This will send 1000 emails as chunks of 50 to <b>'to_address'</b> recepients</i>"
   ]
  },
  {
   "cell_type": "code",
   "execution_count": null,
   "metadata": {},
   "outputs": [],
   "source": []
  }
 ],
 "metadata": {
  "kernelspec": {
   "display_name": "Python 3",
   "language": "python",
   "name": "python3"
  },
  "language_info": {
   "codemirror_mode": {
    "name": "ipython",
    "version": 3
   },
   "file_extension": ".py",
   "mimetype": "text/x-python",
   "name": "python",
   "nbconvert_exporter": "python",
   "pygments_lexer": "ipython3",
   "version": "3.8.3"
  }
 },
 "nbformat": 4,
 "nbformat_minor": 4
}
